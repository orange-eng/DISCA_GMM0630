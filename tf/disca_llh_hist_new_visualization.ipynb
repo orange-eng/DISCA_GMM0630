{
 "cells": [
  {
   "cell_type": "code",
   "execution_count": 1,
   "metadata": {
    "pycharm": {
     "name": "#%%\n"
    }
   },
   "outputs": [],
   "source": [
    "import sys,argparse\n",
    "import pdb\n",
    "import matplotlib.pyplot as plt\n",
    "import numpy as np\n",
    "import time\n",
    "import tensorflow as tf\n",
    "import pandas as pd\n",
    "from sklearn.metrics import homogeneity_completeness_v_measure\n",
    "from utils.plots import *\n",
    "from utils.metrics import *\n",
    "import h5py\n",
    "from disca_dataset.DISCA_visualization import *\n",
    "import pickle, mrcfile\n",
    "import scipy.ndimage as SN\n",
    "from PIL import Image\n",
    "from collections import Counter\n",
    "from disca.DISCA_gmmu_cavi_llh_scanning_new import *\n",
    "from GMMU.gmmu_cavi_stable_new import CAVI_GMMU as GMM\n",
    "from config import *\n",
    "from tqdm import *\n",
    "import cv2\n",
    "import warnings\n",
    "warnings.filterwarnings(\"ignore\")\n",
    "\n",
    "np.random.seed(42)\n",
    "color=['#6A539D','#E6D7B2','#99CCCC','#FFCCCC','#DB7093','#D8BFD8','#6495ED',\\\n",
    "'#1E90FF','#7FFFAA','#FFFF00','#FFA07A','#FF1493','#B0C4DE','#00CED1','#FFDAB9','#DA70D6']\n",
    "color=np.array(color)\n",
    "\n",
    "os.environ[\"CUDA_DEVICE_ORDER\"] = \"PCI_BUS_ID\"\n",
    "os.environ[\"CUDA_VISIBLE_DEVICES\"] = \"4,5\""
   ]
  },
  {
   "cell_type": "code",
   "execution_count": 2,
   "metadata": {
    "pycharm": {
     "name": "#%%\n"
    }
   },
   "outputs": [],
   "source": [
    "parser = argparse.ArgumentParser()\n",
    "parser.add_argument('-c', '--config_yaml', type=str, default='/local/scratch/v_yijian_bai/disca/deepgmmu/config/train.yaml', help='YAML config file')\n",
    "config_parser = parser.parse_args(args = []) #parser.parse_args() in py file\n",
    "args = jupyter_parse_args_yaml(config_parser)"
   ]
  },
  {
   "cell_type": "code",
   "execution_count": 3,
   "metadata": {
    "pycharm": {
     "name": "#%%\n"
    }
   },
   "outputs": [],
   "source": [
    "label_path = args.saving_path+'/results'\n",
    "model_path = args.saving_path+'/models'\n",
    "label_names = ['labels_'+args.algorithm_name]\n",
    "figures_path = args.saving_path+'/figures/'+label_names[0]\n",
    "infos = pickle_load(args.data_path+'/info.pickle')\n",
    "v = read_mrc_numpy_vol(args.data_path+'/emd_4603.map')\n",
    "algorithms = ['classificationmodel']+args.algorithm_name.split('_')\n",
    "v = (v - np.mean(v))/np.std(v)\n",
    "vs = []\n",
    "s = 32//2"
   ]
  },
  {
   "cell_type": "code",
   "execution_count": 4,
   "metadata": {
    "pycharm": {
     "name": "#%%\n"
    }
   },
   "outputs": [
    {
     "data": {
      "text/plain": [
       "['classificationmodel_gmmu_cavi_llh_hist_M_20_lr_0.01_reg_1e-06']"
      ]
     },
     "execution_count": 4,
     "metadata": {},
     "output_type": "execute_result"
    }
   ],
   "source": [
    "#trained model\n",
    "model_names = []\n",
    "for model_name in os.listdir(model_path):\n",
    "    algo = model_name.split('_')[:len(algorithms)]\n",
    "    if algo == algorithms :\n",
    "        model_names.append(os.path.splitext(model_name)[0])\n",
    "model_names"
   ]
  },
  {
   "cell_type": "code",
   "execution_count": 5,
   "metadata": {
    "pycharm": {
     "name": "#%%\n"
    }
   },
   "outputs": [
    {
     "name": "stdout",
     "output_type": "stream",
     "text": [
      "(16265, 24, 24, 24, 1)\n"
     ]
    }
   ],
   "source": [
    "#extracted particles\n",
    "h5f = h5py.File(args.filtered_data_path,'r')                                                        \n",
    "x_train = h5f['dataset_1'][:] # only 'dataset_1'                              \n",
    "h5f.close()\n",
    "print(x_train.shape)"
   ]
  },
  {
   "cell_type": "code",
   "execution_count": 6,
   "metadata": {
    "pycharm": {
     "name": "#%%\n"
    }
   },
   "outputs": [
    {
     "name": "stdout",
     "output_type": "stream",
     "text": [
      "{'emd_4604.map', 'emd_4603.map'} (16265, 3)\n"
     ]
    }
   ],
   "source": [
    "infonp = np.array(infos)\n",
    "print(set(infonp[:,0]),infonp.shape)"
   ]
  },
  {
   "cell_type": "code",
   "execution_count": 7,
   "metadata": {
    "pycharm": {
     "name": "#%%\n"
    }
   },
   "outputs": [
    {
     "name": "stdout",
     "output_type": "stream",
     "text": [
      "509/509 [==============================] - 66s 121ms/step\n",
      "509/509 [==============================] - 1s 2ms/step\n"
     ]
    },
    {
     "name": "stderr",
     "output_type": "stream",
     "text": [
      "100%|██████████| 12/12 [00:43<00:00,  3.61s/it]\n"
     ]
    }
   ],
   "source": [
    "#visualization using classification NN\n",
    "for model_name in model_names:\n",
    "    classmodelpath = os.path.join(model_path,model_name)+'.h5'\n",
    "    yopopath = os.path.join(model_path,'deltamodel_'+'_'.join(model_name.split('_')[1:]))+'.h5'\n",
    "    #gpath = os.path.join(model_path,'gmmumodel_'+'_'.join(model_name.split('_')[1:]))+'.h5'\n",
    "    figure_path = os.path.join(figures_path,'_'.join(model_name.split('_')[1:]))\n",
    "    if not os.path.isdir(figure_path):\n",
    "        os.makedirs(figure_path)\n",
    "    \n",
    "    yopo = tf.keras.models.load_model(yopopath, custom_objects={'CosineSimilarity': CosineSimilarity})\n",
    "    classmodel = tf.keras.models.load_model(classmodelpath, custom_objects={'CosineSimilarity': CosineSimilarity,\\\n",
    "                                                              'SNN': SNN,\\\n",
    "                                                              'NSNN': NSNN})\n",
    "    features = yopo.predict([x_train, x_train, x_train])[0]\n",
    "    labels_soft = classmodel.predict([features, features, features])[0]\n",
    "    labels = np.array([np.argmax(labels_soft[q, :]) for q in range(len(labels_soft))])\n",
    "\n",
    "    for i in tqdm(range(np.max(labels) + 1)):\n",
    "        #print(model_name, i)\n",
    "        locs = np.array(infos)[labels == i]\n",
    "        v_i = np.zeros_like(v)\n",
    "        for j in locs:\n",
    "            if j[0] == 'emd_4603.map': #emd_4603_deconv_corrected.mrc / emd_4603.map\n",
    "                v_i[j[2][0] - s: j[2][0] + s, j[2][1] - s: j[2][1] + s, j[2][2] - s: j[2][2] + s] = \\\n",
    "                v[j[2][0] - s: j[2][0] + s, j[2][1] - s: j[2][1] + s, j[2][2] - s: j[2][2] + s]\n",
    "        save_png(cub_img(v_i[:,:,::15])['im'], os.path.join(figure_path, 'NN'+str(i) + model_name + '.png'))"
   ]
  },
  {
   "cell_type": "code",
   "execution_count": null,
   "metadata": {},
   "outputs": [],
   "source": []
  },
  {
   "cell_type": "code",
   "execution_count": 8,
   "metadata": {
    "pycharm": {
     "name": "#%%\n"
    }
   },
   "outputs": [
    {
     "name": "stdout",
     "output_type": "stream",
     "text": [
      "370/509 [====================>.........] - ETA: 16s"
     ]
    },
    {
     "name": "stdout",
     "output_type": "stream",
     "text": [
      "509/509 [==============================] - 63s 121ms/step\n",
      "Estimated K: 13\n"
     ]
    },
    {
     "name": "stderr",
     "output_type": "stream",
     "text": [
      "100%|██████████| 14/14 [00:53<00:00,  3.81s/it]\n"
     ]
    }
   ],
   "source": [
    "#visualization using GMMU\n",
    "for model_name in model_names:\n",
    "    classmodelpath = os.path.join(model_path,model_name)+'.h5'\n",
    "    yopopath = os.path.join(model_path,'deltamodel_'+'_'.join(model_name.split('_')[1:]))+'.h5'\n",
    "    #gpath = os.path.join(model_path,'gmmumodel_'+'_'.join(model_name.split('_')[1:]))+'.h5'\n",
    "    figure_path = os.path.join(figures_path,'_'.join(model_name.split('_')[1:]))\n",
    "    if not os.path.isdir(figure_path):\n",
    "        os.makedirs(figure_path)\n",
    "    \n",
    "    yopo = tf.keras.models.load_model(yopopath, custom_objects={'CosineSimilarity': CosineSimilarity})\n",
    "    classmodel = tf.keras.models.load_model(classmodelpath, custom_objects={'CosineSimilarity': CosineSimilarity,\\\n",
    "                                                              'SNN': SNN,\\\n",
    "                                                              'NSNN': NSNN})\n",
    "    features = yopo.predict([x_train, x_train, x_train])[0]\n",
    "    # you can set replacce args.candidateKs with some K\n",
    "    labels_temp_proba, labels_temp, K, same_K, features_pca, gmm = \\\n",
    "            statistical_fitting_tf_split_merge(features = np.squeeze(features), \\\n",
    "                                               labels = None, candidateKs = args.candidateKs,\\\n",
    "                                                    K = None, reg_covar = args.reg_covar, it = 0,\\\n",
    "                                                    u_filter_rate=args.u_filter_rate, alpha = args.alpha)\n",
    "    labels_soft = labels_temp_proba\n",
    "    labels = labels_temp\n",
    "\n",
    "    for i in tqdm(range(np.max(labels) + 1)):\n",
    "        locs = np.array(infos)[labels == i]\n",
    "        v_i = np.zeros_like(v)\n",
    "        for j in locs:\n",
    "            if j[0] == 'emd_4603.map': #emd_4603_deconv_corrected.mrc / emd_4603.map\n",
    "                v_i[j[2][0] - s: j[2][0] + s, j[2][1] - s: j[2][1] + s, j[2][2] - s: j[2][2] + s] = \\\n",
    "                v[j[2][0] - s: j[2][0] + s, j[2][1] - s: j[2][1] + s, j[2][2] - s: j[2][2] + s]\n",
    "        save_png(cub_img(v_i[:,:,::15])['im'], os.path.join(figure_path, 'GMMU'+str(i) + model_name + '.png'))"
   ]
  }
 ],
 "metadata": {
  "kernelspec": {
   "display_name": "py39",
   "language": "python",
   "name": "python3"
  },
  "language_info": {
   "codemirror_mode": {
    "name": "ipython",
    "version": 3
   },
   "file_extension": ".py",
   "mimetype": "text/x-python",
   "name": "python",
   "nbconvert_exporter": "python",
   "pygments_lexer": "ipython3",
   "version": "3.9.15"
  },
  "orig_nbformat": 4
 },
 "nbformat": 4,
 "nbformat_minor": 2
}
